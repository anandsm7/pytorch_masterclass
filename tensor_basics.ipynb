{
 "metadata": {
  "language_info": {
   "codemirror_mode": {
    "name": "ipython",
    "version": 3
   },
   "file_extension": ".py",
   "mimetype": "text/x-python",
   "name": "python",
   "nbconvert_exporter": "python",
   "pygments_lexer": "ipython3",
   "version": "3.6.12-final"
  },
  "orig_nbformat": 2,
  "kernelspec": {
   "name": "python3",
   "display_name": "Python 3",
   "language": "python"
  }
 },
 "nbformat": 4,
 "nbformat_minor": 2,
 "cells": [
  {
   "cell_type": "code",
   "execution_count": 1,
   "metadata": {},
   "outputs": [],
   "source": [
    "import torch\n",
    "import numpy as np "
   ]
  },
  {
   "source": [
    "## Torch Initialization"
   ],
   "cell_type": "markdown",
   "metadata": {}
  },
  {
   "cell_type": "code",
   "execution_count": 4,
   "metadata": {},
   "outputs": [],
   "source": [
    "def get_info(_tensor):\n",
    "    print(f\"\"\"\n",
    "    shape: {_tensor.shape}\n",
    "    value: \\n{_tensor}\n",
    "    dtype: {_tensor.dtype}\n",
    "    device: {_tensor.device}\n",
    "    auto_grad: {_tensor.requires_grad}\n",
    "    size: {_tensor.size()}\n",
    "    \"\"\")"
   ]
  },
  {
   "cell_type": "code",
   "execution_count": 37,
   "metadata": {},
   "outputs": [
    {
     "output_type": "stream",
     "name": "stdout",
     "text": [
      "\n    shape: torch.Size([2, 3])\n    value: \ntensor([[1., 2., 3.],\n        [4., 5., 6.]])\n    dtype: torch.float32\n    device: cpu\n    auto_grad: False\n    size: torch.Size([2, 3])\n    \n"
     ]
    }
   ],
   "source": [
    "my_tensor = torch.tensor([[1,2,3],[4, 5, 6]], dtype=torch.float32)\n",
    "get_info(my_tensor)"
   ]
  },
  {
   "cell_type": "code",
   "execution_count": 38,
   "metadata": {},
   "outputs": [
    {
     "output_type": "stream",
     "name": "stdout",
     "text": [
      "\n    shape: torch.Size([3, 3])\n    value: \ntensor([[4.3872e-38, 3.0722e-41, 5.1902e-38],\n        [3.0722e-41, 4.4842e-44, 0.0000e+00],\n        [6.7262e-44, 0.0000e+00, 5.1902e-38]])\n    dtype: torch.float32\n    device: cpu\n    auto_grad: False\n    size: torch.Size([3, 3])\n    \n"
     ]
    }
   ],
   "source": [
    "#empty tensor - random values\n",
    "empty_tensor = torch.empty(size=(3,3))\n",
    "get_info(empty_tensor)"
   ]
  },
  {
   "cell_type": "code",
   "execution_count": 53,
   "metadata": {},
   "outputs": [
    {
     "output_type": "stream",
     "name": "stdout",
     "text": [
      "\n    shape: torch.Size([1, 5])\n    value: \ntensor([[-0.3821,  2.6038, -0.6509,  0.1829, -1.3555]])\n    dtype: torch.float32\n    device: cpu\n    auto_grad: False\n    size: torch.Size([1, 5])\n    \n"
     ]
    }
   ],
   "source": [
    "#normal distribution using empty\n",
    "emptyn_tensor = torch.empty(size=(1,5)).normal_(mean=0, std=1)\n",
    "get_info(emptyn_tensor)"
   ]
  },
  {
   "cell_type": "code",
   "execution_count": 55,
   "metadata": {},
   "outputs": [
    {
     "output_type": "stream",
     "name": "stdout",
     "text": [
      "\n    shape: torch.Size([1, 5])\n    value: \ntensor([[0.3220, 0.5265, 0.4665, 0.9356, 0.0536]])\n    dtype: torch.float32\n    device: cpu\n    auto_grad: False\n    size: torch.Size([1, 5])\n    \n"
     ]
    }
   ],
   "source": [
    "#uniform ditribution using empty\n",
    "emptyu_tensor = torch.empty(size=(1, 5)).uniform_(0, 1)\n",
    "get_info(emptyu_tensor)"
   ]
  },
  {
   "cell_type": "code",
   "execution_count": 39,
   "metadata": {},
   "outputs": [
    {
     "output_type": "stream",
     "name": "stdout",
     "text": [
      "\n    shape: torch.Size([3, 3])\n    value: \ntensor([[0., 0., 0.],\n        [0., 0., 0.],\n        [0., 0., 0.]])\n    dtype: torch.float32\n    device: cpu\n    auto_grad: False\n    size: torch.Size([3, 3])\n    \n"
     ]
    }
   ],
   "source": [
    "#zero tensors\n",
    "zero_tensor = torch.zeros(3, 3)\n",
    "get_info(zero_tensor)"
   ]
  },
  {
   "cell_type": "code",
   "execution_count": 40,
   "metadata": {},
   "outputs": [
    {
     "output_type": "stream",
     "name": "stdout",
     "text": [
      "\n    shape: torch.Size([3, 3])\n    value: \ntensor([[0.2436, 0.3273, 0.1941],\n        [0.3314, 0.3811, 0.1376],\n        [0.3301, 0.1354, 0.6729]])\n    dtype: torch.float32\n    device: cpu\n    auto_grad: False\n    size: torch.Size([3, 3])\n    \n"
     ]
    }
   ],
   "source": [
    "#random_init - random values b/w 0 and 1\n",
    "rand_tensor = torch.rand((3, 3))\n",
    "get_info(rand_tensor)"
   ]
  },
  {
   "cell_type": "code",
   "execution_count": 41,
   "metadata": {},
   "outputs": [
    {
     "output_type": "stream",
     "name": "stdout",
     "text": [
      "\n    shape: torch.Size([3, 3])\n    value: \ntensor([[ 0.3789, -1.4276,  1.0941],\n        [ 0.1440,  0.2304, -0.1611],\n        [ 0.0436,  0.0668, -1.3032]])\n    dtype: torch.float32\n    device: cpu\n    auto_grad: False\n    size: torch.Size([3, 3])\n    \n"
     ]
    }
   ],
   "source": [
    "#randon init - normalized data\n",
    "randn_tensor = torch.randn((3 ,3))\n",
    "get_info(randn_tensor)"
   ]
  },
  {
   "cell_type": "code",
   "execution_count": 42,
   "metadata": {},
   "outputs": [
    {
     "output_type": "stream",
     "name": "stdout",
     "text": [
      "\n    shape: torch.Size([3, 3])\n    value: \ntensor([[1., 1., 1.],\n        [1., 1., 1.],\n        [1., 1., 1.]])\n    dtype: torch.float32\n    device: cpu\n    auto_grad: False\n    size: torch.Size([3, 3])\n    \n"
     ]
    }
   ],
   "source": [
    "#ones \n",
    "ones_tensor = torch.ones((3, 3))\n",
    "get_info(ones_tensor)"
   ]
  },
  {
   "cell_type": "code",
   "execution_count": 43,
   "metadata": {},
   "outputs": [
    {
     "output_type": "stream",
     "name": "stdout",
     "text": [
      "\n    shape: torch.Size([5, 5])\n    value: \ntensor([[1., 0., 0., 0., 0.],\n        [0., 1., 0., 0., 0.],\n        [0., 0., 1., 0., 0.],\n        [0., 0., 0., 1., 0.],\n        [0., 0., 0., 0., 1.]])\n    dtype: torch.float32\n    device: cpu\n    auto_grad: False\n    size: torch.Size([5, 5])\n    \n"
     ]
    }
   ],
   "source": [
    "#identity matrix\n",
    "identity_tensor = torch.eye(5, 5)\n",
    "get_info(identity_tensor)"
   ]
  },
  {
   "cell_type": "code",
   "execution_count": 50,
   "metadata": {},
   "outputs": [
    {
     "output_type": "stream",
     "name": "stdout",
     "text": [
      "\n    shape: torch.Size([2, 2])\n    value: \ntensor([[0, 1],\n        [2, 3]])\n    dtype: torch.int64\n    device: cpu\n    auto_grad: False\n    size: torch.Size([2, 2])\n    \n"
     ]
    }
   ],
   "source": [
    "#values in range\n",
    "range_tensor = torch.arange(start=0, end=4, step=1).view(2,-1)\n",
    "get_info(range_tensor)"
   ]
  },
  {
   "cell_type": "code",
   "execution_count": 52,
   "metadata": {},
   "outputs": [
    {
     "output_type": "stream",
     "name": "stdout",
     "text": [
      "\n    shape: torch.Size([10])\n    value: \ntensor([ 1.,  2.,  3.,  4.,  5.,  6.,  7.,  8.,  9., 10.])\n    dtype: torch.float32\n    device: cpu\n    auto_grad: False\n    size: torch.Size([10])\n    \n"
     ]
    }
   ],
   "source": [
    "#linespace\n",
    "linespace_tensor = torch.linspace(start=1,end=10,steps=10)\n",
    "get_info(linespace_tensor)"
   ]
  },
  {
   "cell_type": "code",
   "execution_count": 57,
   "metadata": {},
   "outputs": [
    {
     "output_type": "stream",
     "name": "stdout",
     "text": [
      "\n    shape: torch.Size([3, 3])\n    value: \ntensor([[5., 0., 0.],\n        [0., 5., 0.],\n        [0., 0., 5.]])\n    dtype: torch.float32\n    device: cpu\n    auto_grad: False\n    size: torch.Size([3, 3])\n    \n"
     ]
    }
   ],
   "source": [
    "#diagonal matrix\n",
    "x = torch.diag(torch.ones(3)*5)\n",
    "get_info(x)"
   ]
  },
  {
   "source": [
    "## Converting Tensor types"
   ],
   "cell_type": "markdown",
   "metadata": {}
  },
  {
   "cell_type": "code",
   "execution_count": 64,
   "metadata": {},
   "outputs": [
    {
     "output_type": "stream",
     "name": "stdout",
     "text": [
      "\n    shape: torch.Size([4])\n    value: \ntensor([0, 1, 2, 3])\n    dtype: torch.int64\n    device: cpu\n    auto_grad: False\n    size: torch.Size([4])\n    \n"
     ]
    }
   ],
   "source": [
    "_tensor = torch.arange(4)\n",
    "get_info(_tensor)"
   ]
  },
  {
   "cell_type": "code",
   "execution_count": 65,
   "metadata": {},
   "outputs": [
    {
     "output_type": "stream",
     "name": "stdout",
     "text": [
      "\n    shape: torch.Size([4])\n    value: \ntensor([False,  True,  True,  True])\n    dtype: torch.bool\n    device: cpu\n    auto_grad: False\n    size: torch.Size([4])\n    \n"
     ]
    }
   ],
   "source": [
    "#int to bool\n",
    "get_info(_tensor.bool())"
   ]
  },
  {
   "cell_type": "code",
   "execution_count": 66,
   "metadata": {},
   "outputs": [
    {
     "output_type": "stream",
     "name": "stdout",
     "text": [
      "\n    shape: torch.Size([4])\n    value: \ntensor([0, 1, 2, 3], dtype=torch.int16)\n    dtype: torch.int16\n    device: cpu\n    auto_grad: False\n    size: torch.Size([4])\n    \n"
     ]
    }
   ],
   "source": [
    "#int to short\n",
    "get_info(_tensor.short())"
   ]
  },
  {
   "cell_type": "code",
   "execution_count": 67,
   "metadata": {},
   "outputs": [
    {
     "output_type": "stream",
     "name": "stdout",
     "text": [
      "\n    shape: torch.Size([4])\n    value: \ntensor([0, 1, 2, 3])\n    dtype: torch.int64\n    device: cpu\n    auto_grad: False\n    size: torch.Size([4])\n    \n"
     ]
    }
   ],
   "source": [
    "#int to long\n",
    "get_info(_tensor.long())"
   ]
  },
  {
   "cell_type": "code",
   "execution_count": 68,
   "metadata": {},
   "outputs": [
    {
     "output_type": "stream",
     "name": "stdout",
     "text": [
      "\n    shape: torch.Size([4])\n    value: \ntensor([0., 1., 2., 3.], dtype=torch.float16)\n    dtype: torch.float16\n    device: cpu\n    auto_grad: False\n    size: torch.Size([4])\n    \n"
     ]
    }
   ],
   "source": [
    "#int to float16\n",
    "get_info(_tensor.half())"
   ]
  },
  {
   "cell_type": "code",
   "execution_count": 69,
   "metadata": {},
   "outputs": [
    {
     "output_type": "stream",
     "name": "stdout",
     "text": [
      "\n    shape: torch.Size([4])\n    value: \ntensor([0., 1., 2., 3.])\n    dtype: torch.float32\n    device: cpu\n    auto_grad: False\n    size: torch.Size([4])\n    \n"
     ]
    }
   ],
   "source": [
    "#int to float32\n",
    "get_info(_tensor.float())"
   ]
  },
  {
   "cell_type": "code",
   "execution_count": 71,
   "metadata": {},
   "outputs": [
    {
     "output_type": "stream",
     "name": "stdout",
     "text": [
      "\n    shape: torch.Size([4])\n    value: \ntensor([0., 1., 2., 3.], dtype=torch.float64)\n    dtype: torch.float64\n    device: cpu\n    auto_grad: False\n    size: torch.Size([4])\n    \n"
     ]
    }
   ],
   "source": [
    "#int to float64\n",
    "get_info(tensor.double())"
   ]
  },
  {
   "cell_type": "code",
   "execution_count": 73,
   "metadata": {},
   "outputs": [
    {
     "output_type": "stream",
     "name": "stdout",
     "text": [
      "\n    shape: torch.Size([5, 5])\n    value: \ntensor([[0., 0., 0., 0., 0.],\n        [0., 0., 0., 0., 0.],\n        [0., 0., 0., 0., 0.],\n        [0., 0., 0., 0., 0.],\n        [0., 0., 0., 0., 0.]], dtype=torch.float64)\n    dtype: torch.float64\n    device: cpu\n    auto_grad: False\n    size: torch.Size([5, 5])\n    \n"
     ]
    }
   ],
   "source": [
    "#numpy to torch\n",
    "np_array = np.zeros((5, 5))\n",
    "tensor = torch.from_numpy(np_array)\n",
    "get_info(tensor)"
   ]
  },
  {
   "cell_type": "code",
   "execution_count": 74,
   "metadata": {},
   "outputs": [
    {
     "output_type": "execute_result",
     "data": {
      "text/plain": [
       "array([[0., 0., 0., 0., 0.],\n",
       "       [0., 0., 0., 0., 0.],\n",
       "       [0., 0., 0., 0., 0.],\n",
       "       [0., 0., 0., 0., 0.],\n",
       "       [0., 0., 0., 0., 0.]])"
      ]
     },
     "metadata": {},
     "execution_count": 74
    }
   ],
   "source": [
    "#torch to numpy\n",
    "np_back = tensor.numpy()\n",
    "np_back"
   ]
  },
  {
   "source": [
    "## Tensor Math"
   ],
   "cell_type": "markdown",
   "metadata": {}
  },
  {
   "cell_type": "code",
   "execution_count": 110,
   "metadata": {},
   "outputs": [
    {
     "output_type": "stream",
     "name": "stdout",
     "text": [
      "\n    shape: torch.Size([3])\n    value: \ntensor([1, 2, 3])\n    dtype: torch.int64\n    device: cpu\n    auto_grad: False\n    size: torch.Size([3])\n    \n\n    shape: torch.Size([3])\n    value: \ntensor([9, 8, 7])\n    dtype: torch.int64\n    device: cpu\n    auto_grad: False\n    size: torch.Size([3])\n    \n"
     ]
    },
    {
     "output_type": "execute_result",
     "data": {
      "text/plain": [
       "(None, None)"
      ]
     },
     "metadata": {},
     "execution_count": 110
    }
   ],
   "source": [
    "x = torch.tensor([1,2,3])\n",
    "y = torch.tensor([9,8,7])\n",
    "get_info(x), get_info(y)"
   ]
  },
  {
   "cell_type": "code",
   "execution_count": 77,
   "metadata": {},
   "outputs": [
    {
     "output_type": "stream",
     "name": "stdout",
     "text": [
      "\n    shape: torch.Size([1, 3])\n    value: \ntensor([[10., 10., 10.]])\n    dtype: torch.float32\n    device: cpu\n    auto_grad: False\n    size: torch.Size([1, 3])\n    \n"
     ]
    }
   ],
   "source": [
    "#addition\n",
    "z1 = torch.empty(3)\n",
    "torch.add(x, y, out=z1)\n",
    "get_info(z1)"
   ]
  },
  {
   "cell_type": "code",
   "execution_count": 78,
   "metadata": {},
   "outputs": [
    {
     "output_type": "stream",
     "name": "stdout",
     "text": [
      "\n    shape: torch.Size([1, 3])\n    value: \ntensor([[10, 10, 10]])\n    dtype: torch.int64\n    device: cpu\n    auto_grad: False\n    size: torch.Size([1, 3])\n    \n"
     ]
    }
   ],
   "source": [
    "z2 = torch.add(x, y)\n",
    "get_info(z2)"
   ]
  },
  {
   "cell_type": "code",
   "execution_count": 79,
   "metadata": {},
   "outputs": [
    {
     "output_type": "stream",
     "name": "stdout",
     "text": [
      "\n    shape: torch.Size([1, 3])\n    value: \ntensor([[10, 10, 10]])\n    dtype: torch.int64\n    device: cpu\n    auto_grad: False\n    size: torch.Size([1, 3])\n    \n"
     ]
    }
   ],
   "source": [
    " z3 = x + y\n",
    " get_info(z3)"
   ]
  },
  {
   "cell_type": "code",
   "execution_count": 80,
   "metadata": {},
   "outputs": [
    {
     "output_type": "stream",
     "name": "stdout",
     "text": [
      "\n    shape: torch.Size([1, 3])\n    value: \ntensor([[-8, -6, -4]])\n    dtype: torch.int64\n    device: cpu\n    auto_grad: False\n    size: torch.Size([1, 3])\n    \n"
     ]
    }
   ],
   "source": [
    "#subtraction\n",
    "sub = x - y\n",
    "get_info(sub)"
   ]
  },
  {
   "cell_type": "code",
   "execution_count": 81,
   "metadata": {},
   "outputs": [
    {
     "output_type": "stream",
     "name": "stdout",
     "text": [
      "\n    shape: torch.Size([1, 3])\n    value: \ntensor([[0.1111, 0.2500, 0.4286]])\n    dtype: torch.float32\n    device: cpu\n    auto_grad: False\n    size: torch.Size([1, 3])\n    \n"
     ]
    }
   ],
   "source": [
    "#division element wise\n",
    "div = torch.true_divide(x , y)\n",
    "get_info(div)"
   ]
  },
  {
   "cell_type": "code",
   "execution_count": 82,
   "metadata": {},
   "outputs": [
    {
     "output_type": "stream",
     "name": "stdout",
     "text": [
      "\n    shape: torch.Size([3])\n    value: \ntensor([5., 5., 5.])\n    dtype: torch.float32\n    device: cpu\n    auto_grad: False\n    size: torch.Size([3])\n    \n"
     ]
    }
   ],
   "source": [
    "#inplace operator \"_\" symbol or += \n",
    "t = torch.zeros(3)\n",
    "t.add_(5)\n",
    "get_info(t)"
   ]
  },
  {
   "cell_type": "code",
   "execution_count": 83,
   "metadata": {},
   "outputs": [
    {
     "output_type": "stream",
     "name": "stdout",
     "text": [
      "\n    shape: torch.Size([1, 3])\n    value: \ntensor([[1, 4, 9]])\n    dtype: torch.int64\n    device: cpu\n    auto_grad: False\n    size: torch.Size([1, 3])\n    \n"
     ]
    }
   ],
   "source": [
    "#exponentiation\n",
    "z = x.pow(2)\n",
    "get_info(z)"
   ]
  },
  {
   "cell_type": "code",
   "execution_count": 84,
   "metadata": {},
   "outputs": [
    {
     "output_type": "stream",
     "name": "stdout",
     "text": [
      "\n    shape: torch.Size([1, 3])\n    value: \ntensor([[1, 4, 9]])\n    dtype: torch.int64\n    device: cpu\n    auto_grad: False\n    size: torch.Size([1, 3])\n    \n"
     ]
    }
   ],
   "source": [
    "z = x ** 2\n",
    "get_info(z)"
   ]
  },
  {
   "cell_type": "code",
   "execution_count": 85,
   "metadata": {},
   "outputs": [
    {
     "output_type": "stream",
     "name": "stdout",
     "text": [
      "\n    shape: torch.Size([1, 3])\n    value: \ntensor([[True, True, True]])\n    dtype: torch.bool\n    device: cpu\n    auto_grad: False\n    size: torch.Size([1, 3])\n    \n"
     ]
    }
   ],
   "source": [
    "#comparison\n",
    "z = x > 0\n",
    "get_info(z)"
   ]
  },
  {
   "cell_type": "code",
   "execution_count": 86,
   "metadata": {},
   "outputs": [
    {
     "output_type": "stream",
     "name": "stdout",
     "text": [
      "\n    shape: torch.Size([2, 3])\n    value: \ntensor([[0.7225, 1.1690, 1.4535],\n        [1.1337, 1.9774, 2.1281]])\n    dtype: torch.float32\n    device: cpu\n    auto_grad: False\n    size: torch.Size([2, 3])\n    \n"
     ]
    }
   ],
   "source": [
    "#matrix multiplication\n",
    "x1 = torch.rand((2, 5))\n",
    "x2 = torch.rand((5, 3))\n",
    "x3 = torch.mm(x1,x2) # (2 x 3)\n",
    "get_info(x3)"
   ]
  },
  {
   "cell_type": "code",
   "execution_count": 87,
   "metadata": {},
   "outputs": [
    {
     "output_type": "stream",
     "name": "stdout",
     "text": [
      "\n    shape: torch.Size([2, 3])\n    value: \ntensor([[0.7225, 1.1690, 1.4535],\n        [1.1337, 1.9774, 2.1281]])\n    dtype: torch.float32\n    device: cpu\n    auto_grad: False\n    size: torch.Size([2, 3])\n    \n"
     ]
    }
   ],
   "source": [
    "x3 = x1.mm(x2)\n",
    "get_info(x3)"
   ]
  },
  {
   "cell_type": "code",
   "execution_count": 94,
   "metadata": {},
   "outputs": [
    {
     "output_type": "stream",
     "name": "stdout",
     "text": [
      "\n    shape: torch.Size([5, 5])\n    value: \ntensor([[0.0987, 0.5101, 0.2644, 0.1551, 0.6742],\n        [0.6033, 0.4366, 0.9249, 0.7439, 0.6347],\n        [0.0912, 0.1093, 0.3351, 0.9996, 0.5290],\n        [0.3131, 0.5678, 0.7910, 0.9270, 0.8774],\n        [0.4264, 0.8771, 0.4725, 0.4592, 0.1261]])\n    dtype: torch.float32\n    device: cpu\n    auto_grad: False\n    size: torch.Size([5, 5])\n    \n"
     ]
    }
   ],
   "source": [
    "#matrix exp\n",
    "matrix_exp = torch.rand((5, 5))\n",
    "get_info(matrix_exp)"
   ]
  },
  {
   "cell_type": "code",
   "execution_count": 97,
   "metadata": {},
   "outputs": [
    {
     "output_type": "stream",
     "name": "stdout",
     "text": [
      "\n    shape: torch.Size([5, 5])\n    value: \ntensor([[1.4213, 2.1770, 2.6661, 3.2385, 2.6942],\n        [2.7432, 4.3375, 5.0298, 6.1056, 4.8273],\n        [1.9162, 2.9822, 3.5307, 4.3001, 3.4099],\n        [2.9800, 4.6801, 5.5266, 6.7417, 5.4092],\n        [2.0043, 3.3032, 3.7049, 4.6386, 3.6532]])\n    dtype: torch.float32\n    device: cpu\n    auto_grad: False\n    size: torch.Size([5, 5])\n    \n"
     ]
    }
   ],
   "source": [
    "get_info(matrix_exp.matrix_power(3))"
   ]
  },
  {
   "cell_type": "code",
   "execution_count": 101,
   "metadata": {},
   "outputs": [
    {
     "output_type": "stream",
     "name": "stdout",
     "text": [
      "\n    shape: torch.Size([1, 3])\n    value: \ntensor([[ 9, 16, 21]])\n    dtype: torch.int64\n    device: cpu\n    auto_grad: False\n    size: torch.Size([1, 3])\n    \n"
     ]
    }
   ],
   "source": [
    "#element wise multiplication\n",
    "z = x * y \n",
    "get_info(z)"
   ]
  },
  {
   "cell_type": "code",
   "execution_count": 111,
   "metadata": {},
   "outputs": [
    {
     "output_type": "stream",
     "name": "stdout",
     "text": [
      "\n    shape: torch.Size([])\n    value: \n46\n    dtype: torch.int64\n    device: cpu\n    auto_grad: False\n    size: torch.Size([])\n    \n"
     ]
    }
   ],
   "source": [
    "#dot product element wise + sum\n",
    "z = x.dot(y)\n",
    "get_info(z)"
   ]
  },
  {
   "cell_type": "code",
   "execution_count": 119,
   "metadata": {},
   "outputs": [
    {
     "output_type": "execute_result",
     "data": {
      "text/plain": [
       "(torch.Size([32, 10, 20]), torch.Size([32, 20, 30]))"
      ]
     },
     "metadata": {},
     "execution_count": 119
    }
   ],
   "source": [
    "#batch matrix mulitplication\n",
    "batch = 32\n",
    "n = 10\n",
    "m = 20\n",
    "p = 30\n",
    "ten1 = torch.rand((batch, n, m))\n",
    "ten2 = torch.rand((batch, m, p))\n",
    "\n",
    "ten1.shape, ten2.shape"
   ]
  },
  {
   "cell_type": "code",
   "execution_count": 121,
   "metadata": {},
   "outputs": [
    {
     "output_type": "stream",
     "name": "stdout",
     "text": [
      "\n    shape: torch.Size([32, 10, 30])\n    value: \ntensor([[[4.2843, 3.4932, 4.2596,  ..., 4.3676, 3.0214, 4.6338],\n         [6.0646, 5.7161, 5.9176,  ..., 6.1094, 4.9796, 6.5656],\n         [4.7613, 5.3164, 4.8666,  ..., 5.5920, 3.2635, 5.5316],\n         ...,\n         [4.7804, 5.0209, 4.3004,  ..., 5.5910, 4.0651, 5.5603],\n         [4.4642, 4.2086, 4.4825,  ..., 4.9740, 3.8879, 4.9063],\n         [5.2720, 4.5789, 5.2932,  ..., 5.4711, 3.0460, 4.5582]],\n\n        [[5.1765, 4.9433, 3.6854,  ..., 3.8314, 5.0445, 4.8270],\n         [4.8715, 4.8692, 4.1334,  ..., 4.1084, 4.7327, 5.2793],\n         [5.6576, 6.5847, 4.1105,  ..., 4.6973, 5.1221, 6.1996],\n         ...,\n         [4.6353, 5.7435, 3.9333,  ..., 3.6178, 4.3258, 5.1409],\n         [5.5744, 5.3704, 3.2924,  ..., 4.0150, 4.8925, 4.9965],\n         [4.9379, 5.2856, 2.7256,  ..., 3.8521, 4.2637, 5.2334]],\n\n        [[6.1504, 6.0251, 4.6805,  ..., 6.5864, 5.6822, 5.7410],\n         [4.1324, 4.3289, 3.8874,  ..., 5.2566, 4.7318, 4.2560],\n         [4.0245, 4.0443, 3.3871,  ..., 4.5389, 4.3442, 4.8315],\n         ...,\n         [3.9997, 3.5944, 2.8468,  ..., 3.8849, 3.7021, 3.7382],\n         [5.5286, 5.1596, 3.6281,  ..., 5.4255, 4.7479, 5.0890],\n         [4.3281, 4.7157, 4.0187,  ..., 5.3925, 4.4888, 4.3725]],\n\n        ...,\n\n        [[4.8471, 5.7585, 6.6188,  ..., 6.2248, 6.3878, 4.0510],\n         [5.0303, 5.0836, 4.8028,  ..., 5.5219, 5.2379, 3.3011],\n         [4.6824, 4.6709, 4.3910,  ..., 5.0292, 4.3604, 2.9276],\n         ...,\n         [4.9026, 4.8470, 4.8201,  ..., 6.0216, 5.1294, 2.9042],\n         [4.3869, 4.3983, 4.2734,  ..., 5.5718, 3.7108, 2.3917],\n         [4.1109, 4.0501, 4.3595,  ..., 5.6418, 4.7668, 2.6040]],\n\n        [[4.8396, 3.8785, 4.3874,  ..., 3.3810, 4.4152, 4.0587],\n         [5.2751, 6.8293, 5.5243,  ..., 4.7257, 5.7833, 5.4923],\n         [3.7606, 4.3621, 4.7766,  ..., 3.6305, 4.9593, 4.7994],\n         ...,\n         [5.5912, 6.7592, 5.2386,  ..., 4.8787, 5.2071, 4.7071],\n         [4.9437, 4.9452, 5.3697,  ..., 4.9288, 5.4705, 4.9451],\n         [4.3408, 4.3536, 3.9730,  ..., 3.6428, 4.0474, 4.1053]],\n\n        [[3.0845, 2.6703, 3.4645,  ..., 2.6579, 3.8899, 3.4077],\n         [5.5341, 5.3594, 5.4910,  ..., 5.5255, 6.2924, 6.2780],\n         [3.7766, 3.7278, 4.2000,  ..., 3.9016, 4.8747, 4.7943],\n         ...,\n         [3.7543, 3.6859, 4.0175,  ..., 3.8069, 5.0384, 4.4348],\n         [3.5571, 3.0779, 3.5093,  ..., 3.8368, 4.7202, 3.6081],\n         [3.9202, 3.7587, 4.3910,  ..., 3.4914, 5.7287, 4.3043]]])\n    dtype: torch.float32\n    device: cpu\n    auto_grad: False\n    size: torch.Size([32, 10, 30])\n    \n"
     ]
    }
   ],
   "source": [
    "out_bmm = torch.bmm(ten1, ten2)\n",
    "get_info(out_bmm)"
   ]
  },
  {
   "cell_type": "code",
   "execution_count": 122,
   "metadata": {},
   "outputs": [
    {
     "output_type": "execute_result",
     "data": {
      "text/plain": [
       "(tensor([[0.9191, 0.0504, 0.6903, 0.1190, 0.4860],\n",
       "         [0.9161, 0.6592, 0.8321, 0.8903, 0.1048],\n",
       "         [0.0150, 0.8253, 0.1072, 0.8821, 0.7110],\n",
       "         [0.6549, 0.6091, 0.0230, 0.6032, 0.8856],\n",
       "         [0.5755, 0.3795, 0.1057, 0.7136, 0.6593]]),\n",
       " tensor([[0.5006, 0.3530, 0.3741, 0.6056, 0.4413]]))"
      ]
     },
     "metadata": {},
     "execution_count": 122
    }
   ],
   "source": [
    "#broadcasting\n",
    "x1 = torch.rand((5, 5))\n",
    "x2 = torch.rand((1, 5))\n",
    "x1, x2 "
   ]
  },
  {
   "cell_type": "code",
   "execution_count": 124,
   "metadata": {},
   "outputs": [
    {
     "output_type": "stream",
     "name": "stdout",
     "text": [
      "\n    shape: torch.Size([5, 5])\n    value: \ntensor([[ 0.4185, -0.3026,  0.3162, -0.4866,  0.0448],\n        [ 0.4155,  0.3062,  0.4580,  0.2847, -0.3365],\n        [-0.4856,  0.4723, -0.2669,  0.2765,  0.2698],\n        [ 0.1543,  0.2561, -0.3511, -0.0024,  0.4444],\n        [ 0.0750,  0.0265, -0.2684,  0.1080,  0.2180]])\n    dtype: torch.float32\n    device: cpu\n    auto_grad: False\n    size: torch.Size([5, 5])\n    \n"
     ]
    }
   ],
   "source": [
    "z = x1 - x2  # x2: (1 x 5) becomes (5 x 5) called broadcasting\n",
    "get_info(z)"
   ]
  },
  {
   "cell_type": "code",
   "execution_count": 129,
   "metadata": {},
   "outputs": [
    {
     "output_type": "execute_result",
     "data": {
      "text/plain": [
       "tensor(6)"
      ]
     },
     "metadata": {},
     "execution_count": 129
    }
   ],
   "source": [
    "#other tensor operations\n",
    "sum_x = torch.sum(x, dim=0)\n",
    "sum_x"
   ]
  },
  {
   "cell_type": "code",
   "execution_count": 145,
   "metadata": {},
   "outputs": [
    {
     "output_type": "execute_result",
     "data": {
      "text/plain": [
       "(tensor(3), tensor(2))"
      ]
     },
     "metadata": {},
     "execution_count": 145
    }
   ],
   "source": [
    "#max\n",
    "values, indices = torch.max(x, dim = 0)\n",
    "values, indices"
   ]
  },
  {
   "cell_type": "code",
   "execution_count": 147,
   "metadata": {},
   "outputs": [
    {
     "output_type": "execute_result",
     "data": {
      "text/plain": [
       "(tensor(1), tensor(0))"
      ]
     },
     "metadata": {},
     "execution_count": 147
    }
   ],
   "source": [
    "#min\n",
    "values, indices = torch.min(x, dim = 0)\n",
    "values, indices"
   ]
  },
  {
   "cell_type": "code",
   "execution_count": 148,
   "metadata": {},
   "outputs": [
    {
     "output_type": "execute_result",
     "data": {
      "text/plain": [
       "tensor([1, 2, 3])"
      ]
     },
     "metadata": {},
     "execution_count": 148
    }
   ],
   "source": [
    "#absolute value\n",
    "abs_x = torch.abs(x)\n",
    "abs_x"
   ]
  },
  {
   "cell_type": "code",
   "execution_count": 149,
   "metadata": {},
   "outputs": [
    {
     "output_type": "execute_result",
     "data": {
      "text/plain": [
       "(tensor(2), tensor(0))"
      ]
     },
     "metadata": {},
     "execution_count": 149
    }
   ],
   "source": [
    "#max index and min index\n",
    "z_max = torch.argmax(x, dim=0)\n",
    "z_min = torch.argmin(x, dim=0)\n",
    "z_max, z_min"
   ]
  },
  {
   "cell_type": "code",
   "execution_count": 152,
   "metadata": {},
   "outputs": [
    {
     "output_type": "stream",
     "name": "stdout",
     "text": [
      "\n    shape: torch.Size([])\n    value: \n2.0\n    dtype: torch.float32\n    device: cpu\n    auto_grad: False\n    size: torch.Size([])\n    \n"
     ]
    }
   ],
   "source": [
    "#mean \n",
    "mean_x = torch.mean(x.float(),dim=0)\n",
    "get_info(mean_x)"
   ]
  },
  {
   "cell_type": "code",
   "execution_count": 153,
   "metadata": {},
   "outputs": [
    {
     "output_type": "stream",
     "name": "stdout",
     "text": [
      "\n    shape: torch.Size([3])\n    value: \ntensor([False, False, False])\n    dtype: torch.bool\n    device: cpu\n    auto_grad: False\n    size: torch.Size([3])\n    \n"
     ]
    }
   ],
   "source": [
    "#element wise compare\n",
    "z = torch.eq(x, y)\n",
    "get_info(z)"
   ]
  },
  {
   "cell_type": "code",
   "execution_count": 160,
   "metadata": {},
   "outputs": [
    {
     "output_type": "execute_result",
     "data": {
      "text/plain": [
       "(tensor([7, 8, 9]), tensor([2, 1, 0]))"
      ]
     },
     "metadata": {},
     "execution_count": 160
    }
   ],
   "source": [
    "#sort\n",
    "sorted_y, indices = torch.sort(y, dim=0, descending=False)\n",
    "sorted_y, indices"
   ]
  },
  {
   "cell_type": "code",
   "execution_count": 163,
   "metadata": {},
   "outputs": [
    {
     "output_type": "stream",
     "name": "stdout",
     "text": [
      "\n    shape: torch.Size([3])\n    value: \ntensor([2, 2, 3])\n    dtype: torch.int64\n    device: cpu\n    auto_grad: False\n    size: torch.Size([3])\n    \n"
     ]
    }
   ],
   "source": [
    "#clamp all elements less tha min are set to min and max than max are set to max\n",
    "#exactly like a reLU\n",
    "z = torch.clamp(x, min = 2, max = 10)\n",
    "get_info(z)"
   ]
  },
  {
   "cell_type": "code",
   "execution_count": 165,
   "metadata": {},
   "outputs": [
    {
     "output_type": "execute_result",
     "data": {
      "text/plain": [
       "(tensor(True), tensor(False))"
      ]
     },
     "metadata": {},
     "execution_count": 165
    }
   ],
   "source": [
    "#any and all\n",
    "x = torch.tensor([1,0,1,1,1], dtype=torch.bool)\n",
    "z = torch.any(x) #any one should be true\n",
    "z1 = torch.all(x) #all should be true\n",
    "z, z1 "
   ]
  },
  {
   "source": [
    "## Tensor Indexing"
   ],
   "cell_type": "markdown",
   "metadata": {}
  },
  {
   "cell_type": "code",
   "execution_count": 3,
   "metadata": {},
   "outputs": [],
   "source": [
    "batch_size = 10\n",
    "features = 25\n",
    "x = torch.rand((batch_size, features))"
   ]
  },
  {
   "cell_type": "code",
   "execution_count": 7,
   "metadata": {},
   "outputs": [
    {
     "output_type": "execute_result",
     "data": {
      "text/plain": [
       "torch.Size([10, 25])"
      ]
     },
     "metadata": {},
     "execution_count": 7
    }
   ],
   "source": [
    "x.shape"
   ]
  },
  {
   "cell_type": "code",
   "execution_count": 9,
   "metadata": {},
   "outputs": [
    {
     "output_type": "stream",
     "name": "stdout",
     "text": [
      "tensor([0.6944, 0.5678, 0.0791, 0.3591, 0.1341, 0.6380, 0.9236, 0.2956, 0.4739,\n        0.0236, 0.1732, 0.0945, 0.1069, 0.2041, 0.7743, 0.4053, 0.2558, 0.9041,\n        0.5481, 0.7040, 0.0050, 0.8586, 0.9895, 0.9436, 0.3947])\ntensor([0.6944, 0.5678, 0.0791, 0.3591, 0.1341, 0.6380, 0.9236, 0.2956, 0.4739,\n        0.0236, 0.1732, 0.0945, 0.1069, 0.2041, 0.7743, 0.4053, 0.2558, 0.9041,\n        0.5481, 0.7040, 0.0050, 0.8586, 0.9895, 0.9436, 0.3947])\n"
     ]
    },
    {
     "output_type": "execute_result",
     "data": {
      "text/plain": [
       "(None, None)"
      ]
     },
     "metadata": {},
     "execution_count": 9
    }
   ],
   "source": [
    "#first row of 25 features\n",
    "print(x[0]), print(x[0,:])"
   ]
  },
  {
   "cell_type": "code",
   "execution_count": 11,
   "metadata": {},
   "outputs": [
    {
     "output_type": "execute_result",
     "data": {
      "text/plain": [
       "(torch.Size([10]),\n",
       " tensor([0.6944, 0.0624, 0.5667, 0.9055, 0.7680, 0.2190, 0.0137, 0.4340, 0.6572,\n",
       "         0.1467]))"
      ]
     },
     "metadata": {},
     "execution_count": 11
    }
   ],
   "source": [
    "#first features of all examples\n",
    "x[:,0].shape, x[:,0]"
   ]
  },
  {
   "cell_type": "code",
   "execution_count": 15,
   "metadata": {},
   "outputs": [
    {
     "output_type": "execute_result",
     "data": {
      "text/plain": [
       "tensor([0.5667, 0.4363, 0.3621, 0.4054, 0.8850, 0.6946, 0.2370, 0.8312, 0.7059,\n",
       "        0.1102])"
      ]
     },
     "metadata": {},
     "execution_count": 15
    }
   ],
   "source": [
    "# 10 features from the 3 examples\n",
    "x[2,:10]"
   ]
  },
  {
   "cell_type": "code",
   "execution_count": 16,
   "metadata": {},
   "outputs": [
    {
     "output_type": "stream",
     "name": "stdout",
     "text": [
      "tensor([0, 1, 2, 3, 4, 5, 6, 7, 8, 9])\n"
     ]
    }
   ],
   "source": [
    "#fancy indexing\n",
    "x = torch.arange(10)\n",
    "indices = [2, 5, 8]\n",
    "print(x)"
   ]
  },
  {
   "cell_type": "code",
   "execution_count": 17,
   "metadata": {},
   "outputs": [
    {
     "output_type": "stream",
     "name": "stdout",
     "text": [
      "tensor([2, 5, 8])\n"
     ]
    }
   ],
   "source": [
    "print(x[indices])"
   ]
  },
  {
   "cell_type": "code",
   "execution_count": 18,
   "metadata": {},
   "outputs": [],
   "source": [
    "x = torch.rand((3 ,5))\n",
    "rows = torch.tensor([1, 0])\n",
    "cols = torch.tensor([4, 0])"
   ]
  },
  {
   "cell_type": "code",
   "execution_count": 19,
   "metadata": {},
   "outputs": [
    {
     "output_type": "execute_result",
     "data": {
      "text/plain": [
       "tensor([[0.7608, 0.2645, 0.4885, 0.6603, 0.5071],\n",
       "        [0.5064, 0.3102, 0.8241, 0.5841, 0.8356],\n",
       "        [0.3864, 0.4779, 0.9628, 0.7651, 0.2878]])"
      ]
     },
     "metadata": {},
     "execution_count": 19
    }
   ],
   "source": [
    "x "
   ]
  },
  {
   "cell_type": "code",
   "execution_count": 20,
   "metadata": {},
   "outputs": [
    {
     "output_type": "stream",
     "name": "stdout",
     "text": [
      "tensor([0.8356, 0.7608])\n"
     ]
    }
   ],
   "source": [
    "print(x[rows, cols]) # ie x[1,4] and x[0,0]"
   ]
  },
  {
   "cell_type": "code",
   "execution_count": 35,
   "metadata": {},
   "outputs": [
    {
     "output_type": "stream",
     "name": "stdout",
     "text": [
      "tensor([0, 1, 9])\ntensor([], dtype=torch.int64)\n"
     ]
    }
   ],
   "source": [
    "#advanced indescing\n",
    "x = torch.arange(10)\n",
    "print(x[( x < 2 )|(x > 8)])\n",
    "\n",
    "print(x[( x < 2 ) & (x > 8)])"
   ]
  },
  {
   "cell_type": "code",
   "execution_count": 30,
   "metadata": {},
   "outputs": [
    {
     "output_type": "stream",
     "name": "stdout",
     "text": [
      "tensor([0, 2, 4, 6, 8])\n"
     ]
    }
   ],
   "source": [
    "print(x[x.remainder(2) == 0])"
   ]
  },
  {
   "cell_type": "code",
   "execution_count": 31,
   "metadata": {},
   "outputs": [
    {
     "output_type": "stream",
     "name": "stdout",
     "text": [
      "tensor([ 0,  2,  4,  6,  8, 10,  6,  7,  8,  9])\n"
     ]
    }
   ],
   "source": [
    "#useful operations\n",
    "print(torch.where(x > 5 ,x, x*2))"
   ]
  },
  {
   "cell_type": "code",
   "execution_count": 32,
   "metadata": {},
   "outputs": [
    {
     "output_type": "stream",
     "name": "stdout",
     "text": [
      "tensor([0, 1, 2, 3, 4])\n"
     ]
    }
   ],
   "source": [
    "#unique tensors\n",
    "x = torch.tensor([0,0,1,2,2,3,4])\n",
    "print(x.unique())"
   ]
  },
  {
   "cell_type": "code",
   "execution_count": 33,
   "metadata": {},
   "outputs": [
    {
     "output_type": "stream",
     "name": "stdout",
     "text": [
      "1\n"
     ]
    }
   ],
   "source": [
    "#num of dimension\n",
    "print(x.ndimension())"
   ]
  },
  {
   "cell_type": "code",
   "execution_count": 39,
   "metadata": {},
   "outputs": [
    {
     "output_type": "execute_result",
     "data": {
      "text/plain": [
       "10"
      ]
     },
     "metadata": {},
     "execution_count": 39
    }
   ],
   "source": [
    "#count of number of elements in tensor\n",
    "x.numel()"
   ]
  },
  {
   "source": [
    "## Tensor Dimensional reshape"
   ],
   "cell_type": "markdown",
   "metadata": {}
  },
  {
   "cell_type": "code",
   "execution_count": 40,
   "metadata": {},
   "outputs": [
    {
     "output_type": "stream",
     "name": "stdout",
     "text": [
      "\n    shape: torch.Size([3, 3])\n    value: \ntensor([[0, 1, 2],\n        [3, 4, 5],\n        [6, 7, 8]])\n    dtype: torch.int64\n    device: cpu\n    auto_grad: False\n    size: torch.Size([3, 3])\n    \n"
     ]
    }
   ],
   "source": [
    "#reshape using view\n",
    "x = torch.arange(9)\n",
    "x_3x3 = x.view(3, 3)\n",
    "get_info(x_3x3)"
   ]
  },
  {
   "cell_type": "code",
   "execution_count": 41,
   "metadata": {},
   "outputs": [
    {
     "output_type": "stream",
     "name": "stdout",
     "text": [
      "\n    shape: torch.Size([3, 3])\n    value: \ntensor([[0, 1, 2],\n        [3, 4, 5],\n        [6, 7, 8]])\n    dtype: torch.int64\n    device: cpu\n    auto_grad: False\n    size: torch.Size([3, 3])\n    \n"
     ]
    }
   ],
   "source": [
    "x_3x3 = x.reshape(3 ,3)\n",
    "get_info(x_3x3)"
   ]
  },
  {
   "cell_type": "code",
   "execution_count": 42,
   "metadata": {},
   "outputs": [
    {
     "output_type": "execute_result",
     "data": {
      "text/plain": [
       "tensor([[0, 3, 6],\n",
       "        [1, 4, 7],\n",
       "        [2, 5, 8]])"
      ]
     },
     "metadata": {},
     "execution_count": 42
    }
   ],
   "source": [
    "y = x_3x3.T\n",
    "y"
   ]
  },
  {
   "cell_type": "code",
   "execution_count": 46,
   "metadata": {},
   "outputs": [
    {
     "output_type": "execute_result",
     "data": {
      "text/plain": [
       "tensor([0, 3, 6, 1, 4, 7, 2, 5, 8])"
      ]
     },
     "metadata": {},
     "execution_count": 46
    }
   ],
   "source": [
    "# view works on contiguose subspaces\n",
    "# means further reshaping of tensor after view creates error\n",
    "# where as reshape is totally fine with it\n",
    "y.reshape(9)"
   ]
  },
  {
   "cell_type": "code",
   "execution_count": 47,
   "metadata": {},
   "outputs": [
    {
     "output_type": "execute_result",
     "data": {
      "text/plain": [
       "tensor([0, 3, 6, 1, 4, 7, 2, 5, 8])"
      ]
     },
     "metadata": {},
     "execution_count": 47
    }
   ],
   "source": [
    "y.contiguous().view(9)"
   ]
  },
  {
   "cell_type": "code",
   "execution_count": 53,
   "metadata": {},
   "outputs": [
    {
     "output_type": "stream",
     "name": "stdout",
     "text": [
      "\n    shape: torch.Size([4, 5])\n    value: \ntensor([[0.9382, 0.7948, 0.5082, 0.9726, 0.1131],\n        [0.3795, 0.0300, 0.1513, 0.4929, 0.7871],\n        [0.4515, 0.6074, 0.0228, 0.5144, 0.0087],\n        [0.7184, 0.2213, 0.7019, 0.2749, 0.0713]])\n    dtype: torch.float32\n    device: cpu\n    auto_grad: False\n    size: torch.Size([4, 5])\n    \n"
     ]
    }
   ],
   "source": [
    "#combine two tensor\n",
    "x1 = torch.rand((2, 5))\n",
    "x2 = torch.rand((2, 5))\n",
    "\n",
    "get_info(torch.cat((x1, x2),axis=0)) #axis 1 makes shape (2 x 10)"
   ]
  },
  {
   "cell_type": "code",
   "execution_count": 54,
   "metadata": {},
   "outputs": [
    {
     "output_type": "stream",
     "name": "stdout",
     "text": [
      "\n    shape: torch.Size([10])\n    value: \ntensor([0.9382, 0.7948, 0.5082, 0.9726, 0.1131, 0.3795, 0.0300, 0.1513, 0.4929,\n        0.7871])\n    dtype: torch.float32\n    device: cpu\n    auto_grad: False\n    size: torch.Size([10])\n    \n"
     ]
    }
   ],
   "source": [
    "#flatten ie 2d to 1d\n",
    "z = x1.view(-1)\n",
    "get_info(z)"
   ]
  },
  {
   "cell_type": "code",
   "execution_count": 56,
   "metadata": {},
   "outputs": [
    {
     "output_type": "execute_result",
     "data": {
      "text/plain": [
       "torch.Size([64, 10])"
      ]
     },
     "metadata": {},
     "execution_count": 56
    }
   ],
   "source": [
    "batch_size = 64\n",
    "x = torch.rand((batch_size, 2, 5)) #(64 x 2 x 5)\n",
    "#flatten it across 2 x 5 exculde batch_size\n",
    "\n",
    "z = x.view(batch_size, -1)\n",
    "z.shape"
   ]
  },
  {
   "cell_type": "code",
   "execution_count": 57,
   "metadata": {},
   "outputs": [
    {
     "output_type": "execute_result",
     "data": {
      "text/plain": [
       "torch.Size([64, 5, 2])"
      ]
     },
     "metadata": {},
     "execution_count": 57
    }
   ],
   "source": [
    "# switch axis\n",
    "z = x.permute([0,2,1])\n",
    "z.shape"
   ]
  },
  {
   "cell_type": "code",
   "execution_count": 61,
   "metadata": {},
   "outputs": [
    {
     "output_type": "stream",
     "name": "stdout",
     "text": [
      "torch.Size([1, 10])\ntorch.Size([10, 1])\n"
     ]
    }
   ],
   "source": [
    "#unsqueeze or adding additional dimensions\n",
    "x = torch.arange(10)\n",
    "print(x.unsqueeze(axis=0).shape)\n",
    "print(x.unsqueeze(axis=1).shape)"
   ]
  },
  {
   "cell_type": "code",
   "execution_count": 63,
   "metadata": {},
   "outputs": [
    {
     "output_type": "execute_result",
     "data": {
      "text/plain": [
       "torch.Size([1, 10])"
      ]
     },
     "metadata": {},
     "execution_count": 63
    }
   ],
   "source": [
    "x = torch.arange(10).unsqueeze(0).unsqueeze(0)\n",
    "z = x.squeeze(0)\n",
    "z.shape"
   ]
  },
  {
   "cell_type": "code",
   "execution_count": null,
   "metadata": {},
   "outputs": [],
   "source": []
  }
 ]
}